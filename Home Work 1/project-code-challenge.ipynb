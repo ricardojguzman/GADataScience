{
 "cells": [
  {
   "cell_type": "markdown",
   "metadata": {},
   "source": [
    "<img src=\"http://imgur.com/1ZcRyrc.png\" style=\"float: left; margin: 20px; height: 55px\">\n",
    "\n",
    "# Project 1: Python Coding Exercises\n",
    "\n",
    "_Authors: Joseph Nelson (DC) _\n",
    "\n",
    "---"
   ]
  },
  {
   "cell_type": "markdown",
   "metadata": {},
   "source": [
    "The following code challenges are drawn from common exercises used in technical interviews.\n",
    "\n",
    "Please note that there may be several ways to approach each challenge. If you get stuck, try mapping out your approach in pseudocode first. Finally, while solutions to problems like these may be found online, remember that if you copy/paste code that you can't explain, you'll be missing out on the point of the project. The only way to truly learn a new skill is through practice, trial, and error - we can only help you improve by understanding where you are having trouble."
   ]
  },
  {
   "cell_type": "markdown",
   "metadata": {},
   "source": [
    "### Challenge 1: Largest Palindrome\n",
    "A palindromic number reads the same both ways. For example, 1234321 is a palindrome. The largest palindrome made from the product of two two-digit numbers is 9009 = 91 × 99. Find the largest palindrome made from the product of two three-digit numbers. Afterward, write a brief explanation walking through your code's logic in markdown."
   ]
  },
  {
   "cell_type": "code",
   "execution_count": 2,
   "metadata": {},
   "outputs": [
    {
     "name": "stdout",
     "output_type": "stream",
     "text": "Largest Palindrome is 906609 And it's the result of [993, 913]\n"
    }
   ],
   "source": [
    "palindrome = {}\n",
    "for number in range(100, 1000):\n",
    "\n",
    "    for position in range(100, 1000):\n",
    "        store = number * position\n",
    "        if str(store)[::-1] == str(store):\n",
    "            palindrome[store] = [number, position]\n",
    "            maxpalindrome = max(palindrome)\n",
    "            \n",
    "print(\"Largest Palindrome is\", maxpalindrome,\n",
    "      \"And it's the result of\", palindrome[maxpalindrome])\n",
    "\n",
    "\n"
   ]
  },
  {
   "cell_type": "code",
   "execution_count": null,
   "metadata": {},
   "outputs": [],
   "source": [
    "###Description for exercise\n",
    "\n",
    "\n",
    "#An empty dictionary is created\n",
    "\n",
    "#Every number inside of the range (In this case from 100 to 999) is multiplied by all of the three-digits numbers. \n",
    "\n",
    "#When the multiplication is done, the result is converted to String, this is required so that the number can be compared from start to finish.\n",
    "\n",
    "#If this number is the same, then it’s stored in the empty dictionary.\n",
    "\n",
    "#After all the palindrome numbers are stored in the dictionary, the maximum index is found, and it’s stored in a variable.\n",
    "\n",
    "#To show the highest palindrome number, a Print is used showing the variable and the stored numbers that are in the dictionary using the variable as Key. "
   ]
  },
  {
   "cell_type": "markdown",
   "metadata": {},
   "source": [
    "\n",
    "### Challenge 2: Summation of Primes\n",
    "The sum of the primes below 10 is 2 + 3 + 5 + 7 = 17. Find the sum of all the primes below 2,000. Afterward, write a brief explanation walking through your code's logic in markdown."
   ]
  },
  {
   "cell_type": "code",
   "execution_count": 1,
   "metadata": {},
   "outputs": [
    {
     "name": "stdout",
     "output_type": "stream",
     "text": "The prime numbers below 2,000 are the following: \n [5, 7, 11, 13, 17, 19, 23, 25, 29, 31, 35, 37, 41, 43, 47, 49, 53, 55, 59, 61, 65, 67, 71, 73, 77, 79, 83, 85, 89, 91, 95, 97, 101, 103, 107, 109, 113, 115, 119, 121, 125, 127, 131, 133, 137, 139, 143, 145, 149, 151, 155, 157, 161, 163, 167, 169, 173, 175, 179, 181, 185, 187, 191, 193, 197, 199, 203, 205, 209, 211, 215, 217, 221, 223, 227, 229, 233, 235, 239, 241, 245, 247, 251, 253, 257, 259, 263, 265, 269, 271, 275, 277, 281, 283, 287, 289, 293, 295, 299, 301, 305, 307, 311, 313, 317, 319, 323, 325, 329, 331, 335, 337, 341, 343, 347, 349, 353, 355, 359, 361, 365, 367, 371, 373, 377, 379, 383, 385, 389, 391, 395, 397, 401, 403, 407, 409, 413, 415, 419, 421, 425, 427, 431, 433, 437, 439, 443, 445, 449, 451, 455, 457, 461, 463, 467, 469, 473, 475, 479, 481, 485, 487, 491, 493, 497, 499, 503, 505, 509, 511, 515, 517, 521, 523, 527, 529, 533, 535, 539, 541, 545, 547, 551, 553, 557, 559, 563, 565, 569, 571, 575, 577, 581, 583, 587, 589, 593, 595, 599, 601, 605, 607, 611, 613, 617, 619, 623, 625, 629, 631, 635, 637, 641, 643, 647, 649, 653, 655, 659, 661, 665, 667, 671, 673, 677, 679, 683, 685, 689, 691, 695, 697, 701, 703, 707, 709, 713, 715, 719, 721, 725, 727, 731, 733, 737, 739, 743, 745, 749, 751, 755, 757, 761, 763, 767, 769, 773, 775, 779, 781, 785, 787, 791, 793, 797, 799, 803, 805, 809, 811, 815, 817, 821, 823, 827, 829, 833, 835, 839, 841, 845, 847, 851, 853, 857, 859, 863, 865, 869, 871, 875, 877, 881, 883, 887, 889, 893, 895, 899, 901, 905, 907, 911, 913, 917, 919, 923, 925, 929, 931, 935, 937, 941, 943, 947, 949, 953, 955, 959, 961, 965, 967, 971, 973, 977, 979, 983, 985, 989, 991, 995, 997, 1001, 1003, 1007, 1009, 1013, 1015, 1019, 1021, 1025, 1027, 1031, 1033, 1037, 1039, 1043, 1045, 1049, 1051, 1055, 1057, 1061, 1063, 1067, 1069, 1073, 1075, 1079, 1081, 1085, 1087, 1091, 1093, 1097, 1099, 1103, 1105, 1109, 1111, 1115, 1117, 1121, 1123, 1127, 1129, 1133, 1135, 1139, 1141, 1145, 1147, 1151, 1153, 1157, 1159, 1163, 1165, 1169, 1171, 1175, 1177, 1181, 1183, 1187, 1189, 1193, 1195, 1199, 1201, 1205, 1207, 1211, 1213, 1217, 1219, 1223, 1225, 1229, 1231, 1235, 1237, 1241, 1243, 1247, 1249, 1253, 1255, 1259, 1261, 1265, 1267, 1271, 1273, 1277, 1279, 1283, 1285, 1289, 1291, 1295, 1297, 1301, 1303, 1307, 1309, 1313, 1315, 1319, 1321, 1325, 1327, 1331, 1333, 1337, 1339, 1343, 1345, 1349, 1351, 1355, 1357, 1361, 1363, 1367, 1369, 1373, 1375, 1379, 1381, 1385, 1387, 1391, 1393, 1397, 1399, 1403, 1405, 1409, 1411, 1415, 1417, 1421, 1423, 1427, 1429, 1433, 1435, 1439, 1441, 1445, 1447, 1451, 1453, 1457, 1459, 1463, 1465, 1469, 1471, 1475, 1477, 1481, 1483, 1487, 1489, 1493, 1495, 1499, 1501, 1505, 1507, 1511, 1513, 1517, 1519, 1523, 1525, 1529, 1531, 1535, 1537, 1541, 1543, 1547, 1549, 1553, 1555, 1559, 1561, 1565, 1567, 1571, 1573, 1577, 1579, 1583, 1585, 1589, 1591, 1595, 1597, 1601, 1603, 1607, 1609, 1613, 1615, 1619, 1621, 1625, 1627, 1631, 1633, 1637, 1639, 1643, 1645, 1649, 1651, 1655, 1657, 1661, 1663, 1667, 1669, 1673, 1675, 1679, 1681, 1685, 1687, 1691, 1693, 1697, 1699, 1703, 1705, 1709, 1711, 1715, 1717, 1721, 1723, 1727, 1729, 1733, 1735, 1739, 1741, 1745, 1747, 1751, 1753, 1757, 1759, 1763, 1765, 1769, 1771, 1775, 1777, 1781, 1783, 1787, 1789, 1793, 1795, 1799, 1801, 1805, 1807, 1811, 1813, 1817, 1819, 1823, 1825, 1829, 1831, 1835, 1837, 1841, 1843, 1847, 1849, 1853, 1855, 1859, 1861, 1865, 1867, 1871, 1873, 1877, 1879, 1883, 1885, 1889, 1891, 1895, 1897, 1901, 1903, 1907, 1909, 1913, 1915, 1919, 1921, 1925, 1927, 1931, 1933, 1937, 1939, 1943, 1945, 1949, 1951, 1955, 1957, 1961, 1963, 1967, 1969, 1973, 1975, 1979, 1981, 1985, 1987, 1991, 1993, 1997, 1999]\nThe sum of all primes below 2,000 is  667332\n"
    }
   ],
   "source": [
    "\n",
    "primelist = [2, 3]\n",
    "\n",
    "\n",
    "for number in range(4, 2000):\n",
    "    count = 0\n",
    "\n",
    "    for divisor in range(2, number + 1):\n",
    "        if number % divisor == 0:\n",
    "            count += 1\n",
    "\n",
    "    if count == 1:\n",
    "        primelist.append(number)\n",
    "\n",
    "\n",
    "\n"
   ]
  },
  {
   "cell_type": "code",
   "execution_count": null,
   "metadata": {},
   "outputs": [],
   "source": [
    "# Description for exercise\n",
    "\n",
    "# Primes are going to be stored in a list called Primelist, this list has the values 2 and 3 already stored. Also a count variable is used.\n",
    "# The operation to find the primes consist of two For cicles .\n",
    "# The first ranges from 4 to the 2000 and inside this one another from 2 to the curret number being evaluated.\n",
    "# If the current number can be divided then the variable count is increased by one.\n",
    "# Then we evaluate if the variable count is higher than 1, if this true the current evaluated number is appended to the Primelist list.\n",
    "# After both cicles are complete the Primelist list is printed and also the sum of this list.\n"
   ]
  },
  {
   "cell_type": "markdown",
   "metadata": {},
   "source": [
    "### Challenge 3: Multiples of 3 and 5\n",
    "If we list all of the natural numbers below 10 that are multiples of 3 or 5, we get 3, 5, 6, and 9. The sum of these multiples is 23. Find the sum of all the multiples of 3 and 5 below 1,000. Afterward, write a brief explanation walking through your code's logic in markdown."
   ]
  },
  {
   "cell_type": "code",
   "execution_count": null,
   "metadata": {
    "collapsed": true
   },
   "outputs": [],
   "source": [
    "\n",
    "\n",
    "multiples = [number for number in range(\n",
    "    1, 1000) if number % 3 == 0 or number % 5 == 0]\n",
    "\n",
    "print(\"The multiples of 3 and 5 are the following:\",multiples)\n",
    "\n",
    "print(\"The sum of the multiples is :\",sum(multiples))\n"
   ]
  },
  {
   "cell_type": "code",
   "execution_count": null,
   "metadata": {},
   "outputs": [],
   "source": [
    "# Description for exercise\n",
    "\n",
    "# Using a list comprehension, a For cycle is run from 1 to 1000\n",
    "# The module operation is used. If the current number is divisible, by 3 and 5 thenis added to the multiple list.\n",
    "# After this, the multiple list is printed and also the sum of the list members "
   ]
  },
  {
   "cell_type": "markdown",
   "metadata": {},
   "source": [
    "### Challenge 4: String Compressor\n",
    "Implement a method to perform basic string compression using the counts of repeated characters. (This is called run-length encoding.) For example, the string \"aabcccccaaa\" would become a2b1c5a3. If the “compressed” string would not become smaller than the original string, your method should return the original string. You can assume the string has only uppercase and lowercase letters (a–z). Specify whether your solution is case sensitive or case insensitive and what you would need to change to make it the other. Afterward, write a brief explanation walking through your code's logic in markdown."
   ]
  },
  {
   "cell_type": "code",
   "execution_count": 1,
   "metadata": {},
   "outputs": [
    {
     "name": "stdout",
     "output_type": "stream",
     "text": "a2b1c5a3\nThe compressed string is: a2b1c5a3\n"
    }
   ],
   "source": [
    "compress = \"aabcccccaaa\"\n",
    "compressed = \"\"\n",
    "temp = compress[0]\n",
    "counter = 0\n",
    "\n",
    "\n",
    "for letter in compress:\n",
    "    if letter != temp:\n",
    "        compressed = compressed + str(temp) + str(counter)\n",
    "        counter = 1\n",
    "        temp = letter\n",
    "    elif letter == temp:\n",
    "        counter += 1\n",
    "\n",
    "\n",
    "compressed = compressed + str(temp) + str(counter)\n",
    "\n",
    "print(compressed)\n",
    "\n",
    "\n",
    "if len(compressed) < len(compress):\n",
    "    print(\"The compressed string is:\", compressed)\n",
    "else:\n",
    "    print(\"The string could not be compressed \", compress)"
   ]
  },
  {
   "cell_type": "code",
   "execution_count": null,
   "metadata": {},
   "outputs": [],
   "source": [
    "# Description for exercise\n",
    "\n",
    "# This solution is case sensitive and to convert it to insensitive, is required to conver the string using upper() before the For Cicle.\n",
    "# The string to be compressed is stored in compress\n",
    "# The compressed string is stored in compressed\n",
    "# The temp variable stored the position 0 of the String to compress and theres a counter variable \n",
    "# The compressing proccess consist of a For cicle that runs the compress string. \n",
    "# The following is verified: If the current letter is different than what is stored in the temp variable and if the letter is the same as the temp variable.\n",
    "# If the letters are different then the compressed string receives the letter and the counter\n",
    "# After this the counter is reset to 1 and the current letter is set as temp\n",
    "# If the letters are the same , then the counter variable is increased by 1\n",
    "# After the For cycle is complete, the compressed variable once again receives the last positions of the string to compress and the counter variable\n",
    "# In the end the lenght of the compressed string is verified to see if it is longer than the original, "
   ]
  },
  {
   "cell_type": "markdown",
   "metadata": {},
   "source": [
    "### *BONUS* Challenge: FizzBuzz\n",
    "Write a program that prints all of the numbers from 1 to 100. For multiples of 3, instead of the number, print \"Fizz;\" for multiples of 5, print \"Buzz.\" For numbers that are multiples of both 3 and 5, print \"FizzBuzz.\" Afterward, write a brief explanation walking through your code's logic in markdown."
   ]
  },
  {
   "cell_type": "code",
   "execution_count": null,
   "metadata": {
    "collapsed": true
   },
   "outputs": [],
   "source": [
    "\n",
    "for number in range(1, 100):\n",
    "    if number % 3 == 0 and number % 5 == 0:\n",
    "        print(\"Fizbuzzzz\")\n",
    "\n",
    "    elif number % 3 == 0:\n",
    "        print(\"Fiz\")\n",
    "\n",
    "    elif number % 5 == 0:\n",
    "        print(\"Buzz\")\n",
    "    else:\n",
    "        print(number)\n",
    "\n"
   ]
  },
  {
   "cell_type": "code",
   "execution_count": null,
   "metadata": {},
   "outputs": [],
   "source": [
    "# Description of the exercise \n",
    "\n",
    "# A For cycle runs the range from 1 to 100, inside this for we have 3 validations\n",
    "# If the number is divisible by 3 and 5 , then print Fizzbuzz\n",
    "# If the number is only divisible by 3 or 5 , then print fizz or buzz, depending which validation executes\n",
    "# If the number is not divisible at all, then print the number.\n",
    "# When the code is executed, all the numbers that are not divisible will be printed, and for the numbers that are divisible\n",
    "# the string values will appear, instead. "
   ]
  }
 ],
 "metadata": {
  "anaconda-cloud": {},
  "kernelspec": {
   "display_name": "Python 3",
   "language": "python",
   "name": "python3"
  },
  "language_info": {
   "codemirror_mode": {
    "name": "ipython",
    "version": 3
   },
   "file_extension": ".py",
   "mimetype": "text/x-python",
   "name": "python",
   "nbconvert_exporter": "python",
   "pygments_lexer": "ipython3",
   "version": "3.6.3"
  }
 },
 "nbformat": 4,
 "nbformat_minor": 2
}